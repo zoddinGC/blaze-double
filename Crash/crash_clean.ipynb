{
 "cells": [
  {
   "attachments": {},
   "cell_type": "markdown",
   "metadata": {},
   "source": [
    "## Importing Python Libraries"
   ]
  },
  {
   "cell_type": "code",
   "execution_count": 1,
   "metadata": {},
   "outputs": [],
   "source": [
    "import pandas as pd"
   ]
  },
  {
   "attachments": {},
   "cell_type": "markdown",
   "metadata": {},
   "source": [
    "## Load the Dataset"
   ]
  },
  {
   "cell_type": "code",
   "execution_count": 2,
   "metadata": {},
   "outputs": [
    {
     "name": "stdout",
     "output_type": "stream",
     "text": [
      "<class 'pandas.core.frame.DataFrame'>\n",
      "Int64Index: 23591 entries, 0 to 23999\n",
      "Data columns (total 3 columns):\n",
      " #   Column  Non-Null Count  Dtype \n",
      "---  ------  --------------  ----- \n",
      " 0   Color   23591 non-null  object\n",
      " 1   Crash   23591 non-null  object\n",
      " 2   Date    23591 non-null  object\n",
      "dtypes: object(3)\n",
      "memory usage: 737.2+ KB\n"
     ]
    }
   ],
   "source": [
    "# Load the dataset\n",
    "df = pd.read_excel('../Crash_data/October.xlsx')\n",
    "df = df.drop_duplicates()\n",
    "df.drop('Seed', axis=1, inplace=True)\n",
    "\n",
    "# Renaming columns to EN pattern\n",
    "df.rename(columns={'Cor':'Color', 'Data':'Date'}, inplace=True)\n",
    "\n",
    "df.info()"
   ]
  },
  {
   "cell_type": "code",
   "execution_count": 3,
   "metadata": {},
   "outputs": [
    {
     "data": {
      "text/plain": [
       "Color    object\n",
       "Crash    object\n",
       "Date     object\n",
       "dtype: object"
      ]
     },
     "execution_count": 3,
     "metadata": {},
     "output_type": "execute_result"
    }
   ],
   "source": [
    "df.dtypes"
   ]
  },
  {
   "cell_type": "code",
   "execution_count": 4,
   "metadata": {},
   "outputs": [
    {
     "data": {
      "text/html": [
       "<div>\n",
       "<style scoped>\n",
       "    .dataframe tbody tr th:only-of-type {\n",
       "        vertical-align: middle;\n",
       "    }\n",
       "\n",
       "    .dataframe tbody tr th {\n",
       "        vertical-align: top;\n",
       "    }\n",
       "\n",
       "    .dataframe thead th {\n",
       "        text-align: right;\n",
       "    }\n",
       "</style>\n",
       "<table border=\"1\" class=\"dataframe\">\n",
       "  <thead>\n",
       "    <tr style=\"text-align: right;\">\n",
       "      <th></th>\n",
       "      <th>Color</th>\n",
       "      <th>Crash</th>\n",
       "      <th>Day</th>\n",
       "      <th>Hour</th>\n",
       "      <th>Minute</th>\n",
       "      <th>Second</th>\n",
       "    </tr>\n",
       "  </thead>\n",
       "  <tbody>\n",
       "    <tr>\n",
       "      <th>0</th>\n",
       "      <td>1</td>\n",
       "      <td>3.18</td>\n",
       "      <td>21</td>\n",
       "      <td>11</td>\n",
       "      <td>35</td>\n",
       "      <td>36</td>\n",
       "    </tr>\n",
       "    <tr>\n",
       "      <th>1</th>\n",
       "      <td>0</td>\n",
       "      <td>1.06</td>\n",
       "      <td>21</td>\n",
       "      <td>11</td>\n",
       "      <td>35</td>\n",
       "      <td>6</td>\n",
       "    </tr>\n",
       "    <tr>\n",
       "      <th>2</th>\n",
       "      <td>1</td>\n",
       "      <td>2.30</td>\n",
       "      <td>21</td>\n",
       "      <td>11</td>\n",
       "      <td>34</td>\n",
       "      <td>56</td>\n",
       "    </tr>\n",
       "    <tr>\n",
       "      <th>3</th>\n",
       "      <td>1</td>\n",
       "      <td>746.12</td>\n",
       "      <td>21</td>\n",
       "      <td>11</td>\n",
       "      <td>34</td>\n",
       "      <td>31</td>\n",
       "    </tr>\n",
       "    <tr>\n",
       "      <th>4</th>\n",
       "      <td>1</td>\n",
       "      <td>14.25</td>\n",
       "      <td>21</td>\n",
       "      <td>11</td>\n",
       "      <td>32</td>\n",
       "      <td>30</td>\n",
       "    </tr>\n",
       "  </tbody>\n",
       "</table>\n",
       "</div>"
      ],
      "text/plain": [
       "   Color   Crash  Day  Hour  Minute  Second\n",
       "0      1    3.18   21    11      35      36\n",
       "1      0    1.06   21    11      35       6\n",
       "2      1    2.30   21    11      34      56\n",
       "3      1  746.12   21    11      34      31\n",
       "4      1   14.25   21    11      32      30"
      ]
     },
     "execution_count": 4,
     "metadata": {},
     "output_type": "execute_result"
    }
   ],
   "source": [
    "# Manipulating variables\n",
    "df['Crash'] = df['Crash'].str[:-1].astype(float)\n",
    "df['Day'] = df['Date'].str[:2].astype(int)\n",
    "df['Hour'] = df['Date'].str[-11:-9].astype(int)\n",
    "df['Minute'] = df['Date'].str[-8:-6].astype(int)\n",
    "df['Second'] = df['Date'].str[-5:-3].astype(int)\n",
    "\n",
    "df.drop('Date', axis=1, inplace=True)\n",
    "\n",
    "# Changing Color String to Numbers\n",
    "df['Color'] = df['Color'].map({'Good':1, 'Bad':0})\n",
    "df.head()"
   ]
  },
  {
   "attachments": {},
   "cell_type": "markdown",
   "metadata": {},
   "source": [
    "## Old and Slowly Version"
   ]
  },
  {
   "cell_type": "code",
   "execution_count": 5,
   "metadata": {},
   "outputs": [],
   "source": [
    "def data_to_data(x, j):\n",
    "    if j == 0:\n",
    "        return x[:2]\n",
    "        \n",
    "    elif j == 1:\n",
    "        return x[-11:-9]\n",
    "        \n",
    "    elif j == 2:\n",
    "        return x[-8:-6]\n",
    "        \n",
    "    else:\n",
    "        return x[-5:-3]"
   ]
  },
  {
   "cell_type": "code",
   "execution_count": 6,
   "metadata": {},
   "outputs": [],
   "source": [
    "path = ['../Crash_data/01-a-08-09.xlsx',\n",
    "        '../Crash_data/08-a-16-09.xlsx',\n",
    "        '../Crash_data/16-a-22-09.xlsx',\n",
    "        '../Crash_data/22-a-31-09.xlsx']\n",
    "\n",
    "for n in range(3):\n",
    "    df1 = pd.read_excel(path[n])\n",
    "    df2 = pd.read_excel(path[n + 1])\n",
    "\n",
    "    df = pd.concat([df1, df2], axis=0)\n",
    "\n",
    "    df = df.drop_duplicates()\n",
    "\n",
    "\n",
    "def string_to_float(x):\n",
    "    return float(x[:4])\n",
    "\n",
    "new_columns = ['Day', 'Hour', 'Minute', 'Second']\n",
    "\n",
    "for j, value in enumerate(new_columns):\n",
    "    df[value] = df.Data.apply(lambda row: data_to_data(row, j))\n",
    "\n",
    "df = df.drop(['Data', 'Seed'], axis=1).sort_values(by=['Day', 'Hour', 'Minute', 'Second'], ascending=False).reset_index(drop=True)\n",
    "\n",
    "df['Crash'] = df.Crash.apply(lambda row: string_to_float(row))"
   ]
  },
  {
   "cell_type": "code",
   "execution_count": 7,
   "metadata": {},
   "outputs": [
    {
     "data": {
      "text/html": [
       "<div>\n",
       "<style scoped>\n",
       "    .dataframe tbody tr th:only-of-type {\n",
       "        vertical-align: middle;\n",
       "    }\n",
       "\n",
       "    .dataframe tbody tr th {\n",
       "        vertical-align: top;\n",
       "    }\n",
       "\n",
       "    .dataframe thead th {\n",
       "        text-align: right;\n",
       "    }\n",
       "</style>\n",
       "<table border=\"1\" class=\"dataframe\">\n",
       "  <thead>\n",
       "    <tr style=\"text-align: right;\">\n",
       "      <th></th>\n",
       "      <th>Cor</th>\n",
       "      <th>Crash</th>\n",
       "      <th>Day</th>\n",
       "      <th>Hour</th>\n",
       "      <th>Minute</th>\n",
       "      <th>Second</th>\n",
       "    </tr>\n",
       "  </thead>\n",
       "  <tbody>\n",
       "    <tr>\n",
       "      <th>0</th>\n",
       "      <td>Bad</td>\n",
       "      <td>1.94</td>\n",
       "      <td>30</td>\n",
       "      <td>23</td>\n",
       "      <td>59</td>\n",
       "      <td>42</td>\n",
       "    </tr>\n",
       "    <tr>\n",
       "      <th>1</th>\n",
       "      <td>Good</td>\n",
       "      <td>6.69</td>\n",
       "      <td>30</td>\n",
       "      <td>23</td>\n",
       "      <td>59</td>\n",
       "      <td>22</td>\n",
       "    </tr>\n",
       "    <tr>\n",
       "      <th>2</th>\n",
       "      <td>Bad</td>\n",
       "      <td>1.36</td>\n",
       "      <td>30</td>\n",
       "      <td>23</td>\n",
       "      <td>58</td>\n",
       "      <td>42</td>\n",
       "    </tr>\n",
       "    <tr>\n",
       "      <th>3</th>\n",
       "      <td>Good</td>\n",
       "      <td>2.61</td>\n",
       "      <td>30</td>\n",
       "      <td>23</td>\n",
       "      <td>58</td>\n",
       "      <td>27</td>\n",
       "    </tr>\n",
       "    <tr>\n",
       "      <th>4</th>\n",
       "      <td>Good</td>\n",
       "      <td>8.90</td>\n",
       "      <td>30</td>\n",
       "      <td>23</td>\n",
       "      <td>58</td>\n",
       "      <td>02</td>\n",
       "    </tr>\n",
       "  </tbody>\n",
       "</table>\n",
       "</div>"
      ],
      "text/plain": [
       "    Cor  Crash Day Hour Minute Second\n",
       "0   Bad   1.94  30   23     59     42\n",
       "1  Good   6.69  30   23     59     22\n",
       "2   Bad   1.36  30   23     58     42\n",
       "3  Good   2.61  30   23     58     27\n",
       "4  Good   8.90  30   23     58     02"
      ]
     },
     "execution_count": 7,
     "metadata": {},
     "output_type": "execute_result"
    }
   ],
   "source": [
    "# df.to_csv(r'C:\\Users\\gdcam\\OneDrive\\Área de Trabalho\\DS BLAZE\\blaze_algorithm\\Crash_data\\clean_october.csv')\n",
    "df.head()"
   ]
  }
 ],
 "metadata": {
  "kernelspec": {
   "display_name": "Python 3",
   "language": "python",
   "name": "python3"
  },
  "language_info": {
   "codemirror_mode": {
    "name": "ipython",
    "version": 3
   },
   "file_extension": ".py",
   "mimetype": "text/x-python",
   "name": "python",
   "nbconvert_exporter": "python",
   "pygments_lexer": "ipython3",
   "version": "3.9.6"
  },
  "orig_nbformat": 4,
  "vscode": {
   "interpreter": {
    "hash": "a59d219ccae24e84fd725310d5507a894f7d2d1e9aec550f8fbdc845c33ce2d1"
   }
  }
 },
 "nbformat": 4,
 "nbformat_minor": 2
}
